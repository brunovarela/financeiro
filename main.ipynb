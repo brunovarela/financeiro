{
 "cells": [
  {
   "cell_type": "code",
   "execution_count": 5,
   "metadata": {},
   "outputs": [
    {
     "name": "stderr",
     "output_type": "stream",
     "text": [
      "[*********************100%***********************]  1 of 1 completed"
     ]
    },
    {
     "name": "stdout",
     "output_type": "stream",
     "text": [
      "Date\n",
      "2024-08-05    13.61\n",
      "2024-08-06    14.06\n",
      "2024-08-07    14.09\n",
      "2024-08-08    14.25\n",
      "2024-08-09    14.60\n",
      "2024-08-12    14.70\n",
      "2024-08-13    14.88\n",
      "2024-08-14    15.01\n",
      "2024-08-15    15.16\n",
      "2024-08-16    14.97\n",
      "2024-08-19    15.64\n",
      "2024-08-20    15.70\n",
      "2024-08-21    15.63\n",
      "2024-08-22    15.52\n",
      "Name: Close, dtype: float64\n"
     ]
    },
    {
     "name": "stderr",
     "output_type": "stream",
     "text": [
      "\n"
     ]
    }
   ],
   "source": [
    "import yfinance as yf\n",
    "import datetime\n",
    "\n",
    "# Defina o ticker da ação, data de início e data de fim\n",
    "ticker = \"BBDC4.SA\"  # Exemplo: Apple\n",
    "start_date = \"2024-08-12\"\n",
    "end_date = \"2024-09-05\"\n",
    "\n",
    "# Baixe os dados históricos\n",
    "stock_data = yf.download(ticker, start=start_date, end=end_date)\n",
    "\n",
    "# Exiba os valores de fechamento\n",
    "print(stock_data['Close'])"
   ]
  }
 ],
 "metadata": {
  "kernelspec": {
   "display_name": "Python 3",
   "language": "python",
   "name": "python3"
  },
  "language_info": {
   "codemirror_mode": {
    "name": "ipython",
    "version": 3
   },
   "file_extension": ".py",
   "mimetype": "text/x-python",
   "name": "python",
   "nbconvert_exporter": "python",
   "pygments_lexer": "ipython3",
   "version": "3.11.3"
  }
 },
 "nbformat": 4,
 "nbformat_minor": 2
}
